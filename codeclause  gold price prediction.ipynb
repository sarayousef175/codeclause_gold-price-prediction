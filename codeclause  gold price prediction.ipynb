{
 "cells": [
  {
   "cell_type": "markdown",
   "id": "a6bf4216",
   "metadata": {},
   "source": [
    "# Gold price prediction project "
   ]
  },
  {
   "cell_type": "code",
   "execution_count": 1,
   "id": "9131d79b",
   "metadata": {},
   "outputs": [],
   "source": [
    "import pandas as pd\n",
    "import numpy as np\n",
    "import matplotlib.pyplot as plt\n",
    "import seaborn as sns"
   ]
  },
  {
   "cell_type": "markdown",
   "id": "7ad72206",
   "metadata": {},
   "source": [
    "### data collection and cleaning"
   ]
  },
  {
   "cell_type": "code",
   "execution_count": 2,
   "id": "f05fb00f",
   "metadata": {},
   "outputs": [],
   "source": [
    "gold_data=pd.read_csv(\"gld_price_prediction_data.csv\")"
   ]
  },
  {
   "cell_type": "code",
   "execution_count": 3,
   "id": "639bc980",
   "metadata": {},
   "outputs": [
    {
     "data": {
      "text/html": [
       "<div>\n",
       "<style scoped>\n",
       "    .dataframe tbody tr th:only-of-type {\n",
       "        vertical-align: middle;\n",
       "    }\n",
       "\n",
       "    .dataframe tbody tr th {\n",
       "        vertical-align: top;\n",
       "    }\n",
       "\n",
       "    .dataframe thead th {\n",
       "        text-align: right;\n",
       "    }\n",
       "</style>\n",
       "<table border=\"1\" class=\"dataframe\">\n",
       "  <thead>\n",
       "    <tr style=\"text-align: right;\">\n",
       "      <th></th>\n",
       "      <th>Date</th>\n",
       "      <th>SPX</th>\n",
       "      <th>GLD</th>\n",
       "      <th>USO</th>\n",
       "      <th>SLV</th>\n",
       "      <th>EUR/USD</th>\n",
       "    </tr>\n",
       "  </thead>\n",
       "  <tbody>\n",
       "    <tr>\n",
       "      <th>0</th>\n",
       "      <td>1/2/2008</td>\n",
       "      <td>1447.160034</td>\n",
       "      <td>84.860001</td>\n",
       "      <td>78.470001</td>\n",
       "      <td>15.180</td>\n",
       "      <td>1.471692</td>\n",
       "    </tr>\n",
       "    <tr>\n",
       "      <th>1</th>\n",
       "      <td>1/3/2008</td>\n",
       "      <td>1447.160034</td>\n",
       "      <td>85.570000</td>\n",
       "      <td>78.370003</td>\n",
       "      <td>15.285</td>\n",
       "      <td>1.474491</td>\n",
       "    </tr>\n",
       "    <tr>\n",
       "      <th>2</th>\n",
       "      <td>1/4/2008</td>\n",
       "      <td>1411.630005</td>\n",
       "      <td>85.129997</td>\n",
       "      <td>77.309998</td>\n",
       "      <td>15.167</td>\n",
       "      <td>1.475492</td>\n",
       "    </tr>\n",
       "    <tr>\n",
       "      <th>3</th>\n",
       "      <td>1/7/2008</td>\n",
       "      <td>1416.180054</td>\n",
       "      <td>84.769997</td>\n",
       "      <td>75.500000</td>\n",
       "      <td>15.053</td>\n",
       "      <td>1.468299</td>\n",
       "    </tr>\n",
       "    <tr>\n",
       "      <th>4</th>\n",
       "      <td>1/8/2008</td>\n",
       "      <td>1390.189941</td>\n",
       "      <td>86.779999</td>\n",
       "      <td>76.059998</td>\n",
       "      <td>15.590</td>\n",
       "      <td>1.557099</td>\n",
       "    </tr>\n",
       "  </tbody>\n",
       "</table>\n",
       "</div>"
      ],
      "text/plain": [
       "       Date          SPX        GLD        USO     SLV   EUR/USD\n",
       "0  1/2/2008  1447.160034  84.860001  78.470001  15.180  1.471692\n",
       "1  1/3/2008  1447.160034  85.570000  78.370003  15.285  1.474491\n",
       "2  1/4/2008  1411.630005  85.129997  77.309998  15.167  1.475492\n",
       "3  1/7/2008  1416.180054  84.769997  75.500000  15.053  1.468299\n",
       "4  1/8/2008  1390.189941  86.779999  76.059998  15.590  1.557099"
      ]
     },
     "execution_count": 3,
     "metadata": {},
     "output_type": "execute_result"
    }
   ],
   "source": [
    "gold_data.head()"
   ]
  },
  {
   "cell_type": "code",
   "execution_count": 4,
   "id": "12bf38a0",
   "metadata": {},
   "outputs": [
    {
     "data": {
      "text/html": [
       "<div>\n",
       "<style scoped>\n",
       "    .dataframe tbody tr th:only-of-type {\n",
       "        vertical-align: middle;\n",
       "    }\n",
       "\n",
       "    .dataframe tbody tr th {\n",
       "        vertical-align: top;\n",
       "    }\n",
       "\n",
       "    .dataframe thead th {\n",
       "        text-align: right;\n",
       "    }\n",
       "</style>\n",
       "<table border=\"1\" class=\"dataframe\">\n",
       "  <thead>\n",
       "    <tr style=\"text-align: right;\">\n",
       "      <th></th>\n",
       "      <th>Date</th>\n",
       "      <th>SPX</th>\n",
       "      <th>GLD</th>\n",
       "      <th>USO</th>\n",
       "      <th>SLV</th>\n",
       "      <th>EUR/USD</th>\n",
       "    </tr>\n",
       "  </thead>\n",
       "  <tbody>\n",
       "    <tr>\n",
       "      <th>2285</th>\n",
       "      <td>5/8/2018</td>\n",
       "      <td>2671.919922</td>\n",
       "      <td>124.589996</td>\n",
       "      <td>14.0600</td>\n",
       "      <td>15.5100</td>\n",
       "      <td>1.186789</td>\n",
       "    </tr>\n",
       "    <tr>\n",
       "      <th>2286</th>\n",
       "      <td>5/9/2018</td>\n",
       "      <td>2697.790039</td>\n",
       "      <td>124.330002</td>\n",
       "      <td>14.3700</td>\n",
       "      <td>15.5300</td>\n",
       "      <td>1.184722</td>\n",
       "    </tr>\n",
       "    <tr>\n",
       "      <th>2287</th>\n",
       "      <td>5/10/2018</td>\n",
       "      <td>2723.070068</td>\n",
       "      <td>125.180000</td>\n",
       "      <td>14.4100</td>\n",
       "      <td>15.7400</td>\n",
       "      <td>1.191753</td>\n",
       "    </tr>\n",
       "    <tr>\n",
       "      <th>2288</th>\n",
       "      <td>5/14/2018</td>\n",
       "      <td>2730.129883</td>\n",
       "      <td>124.489998</td>\n",
       "      <td>14.3800</td>\n",
       "      <td>15.5600</td>\n",
       "      <td>1.193118</td>\n",
       "    </tr>\n",
       "    <tr>\n",
       "      <th>2289</th>\n",
       "      <td>5/16/2018</td>\n",
       "      <td>2725.780029</td>\n",
       "      <td>122.543800</td>\n",
       "      <td>14.4058</td>\n",
       "      <td>15.4542</td>\n",
       "      <td>1.182033</td>\n",
       "    </tr>\n",
       "  </tbody>\n",
       "</table>\n",
       "</div>"
      ],
      "text/plain": [
       "           Date          SPX         GLD      USO      SLV   EUR/USD\n",
       "2285   5/8/2018  2671.919922  124.589996  14.0600  15.5100  1.186789\n",
       "2286   5/9/2018  2697.790039  124.330002  14.3700  15.5300  1.184722\n",
       "2287  5/10/2018  2723.070068  125.180000  14.4100  15.7400  1.191753\n",
       "2288  5/14/2018  2730.129883  124.489998  14.3800  15.5600  1.193118\n",
       "2289  5/16/2018  2725.780029  122.543800  14.4058  15.4542  1.182033"
      ]
     },
     "execution_count": 4,
     "metadata": {},
     "output_type": "execute_result"
    }
   ],
   "source": [
    "gold_data.tail()"
   ]
  },
  {
   "cell_type": "code",
   "execution_count": 5,
   "id": "93796c12",
   "metadata": {},
   "outputs": [
    {
     "data": {
      "text/plain": [
       "(2290, 6)"
      ]
     },
     "execution_count": 5,
     "metadata": {},
     "output_type": "execute_result"
    }
   ],
   "source": [
    "gold_data.shape"
   ]
  },
  {
   "cell_type": "code",
   "execution_count": 6,
   "id": "35b21620",
   "metadata": {},
   "outputs": [
    {
     "name": "stdout",
     "output_type": "stream",
     "text": [
      "<class 'pandas.core.frame.DataFrame'>\n",
      "RangeIndex: 2290 entries, 0 to 2289\n",
      "Data columns (total 6 columns):\n",
      " #   Column   Non-Null Count  Dtype  \n",
      "---  ------   --------------  -----  \n",
      " 0   Date     2290 non-null   object \n",
      " 1   SPX      2290 non-null   float64\n",
      " 2   GLD      2290 non-null   float64\n",
      " 3   USO      2290 non-null   float64\n",
      " 4   SLV      2290 non-null   float64\n",
      " 5   EUR/USD  2290 non-null   float64\n",
      "dtypes: float64(5), object(1)\n",
      "memory usage: 107.5+ KB\n"
     ]
    }
   ],
   "source": [
    "gold_data.info()"
   ]
  },
  {
   "cell_type": "code",
   "execution_count": 7,
   "id": "8413b699",
   "metadata": {},
   "outputs": [
    {
     "data": {
      "text/plain": [
       "Date       0\n",
       "SPX        0\n",
       "GLD        0\n",
       "USO        0\n",
       "SLV        0\n",
       "EUR/USD    0\n",
       "dtype: int64"
      ]
     },
     "execution_count": 7,
     "metadata": {},
     "output_type": "execute_result"
    }
   ],
   "source": [
    "gold_data.isnull().sum()"
   ]
  },
  {
   "cell_type": "code",
   "execution_count": 8,
   "id": "c315b89c",
   "metadata": {},
   "outputs": [
    {
     "data": {
      "text/html": [
       "<div>\n",
       "<style scoped>\n",
       "    .dataframe tbody tr th:only-of-type {\n",
       "        vertical-align: middle;\n",
       "    }\n",
       "\n",
       "    .dataframe tbody tr th {\n",
       "        vertical-align: top;\n",
       "    }\n",
       "\n",
       "    .dataframe thead th {\n",
       "        text-align: right;\n",
       "    }\n",
       "</style>\n",
       "<table border=\"1\" class=\"dataframe\">\n",
       "  <thead>\n",
       "    <tr style=\"text-align: right;\">\n",
       "      <th></th>\n",
       "      <th>SPX</th>\n",
       "      <th>GLD</th>\n",
       "      <th>USO</th>\n",
       "      <th>SLV</th>\n",
       "      <th>EUR/USD</th>\n",
       "    </tr>\n",
       "  </thead>\n",
       "  <tbody>\n",
       "    <tr>\n",
       "      <th>count</th>\n",
       "      <td>2290.000000</td>\n",
       "      <td>2290.000000</td>\n",
       "      <td>2290.000000</td>\n",
       "      <td>2290.000000</td>\n",
       "      <td>2290.000000</td>\n",
       "    </tr>\n",
       "    <tr>\n",
       "      <th>mean</th>\n",
       "      <td>1654.315776</td>\n",
       "      <td>122.732875</td>\n",
       "      <td>31.842221</td>\n",
       "      <td>20.084997</td>\n",
       "      <td>1.283653</td>\n",
       "    </tr>\n",
       "    <tr>\n",
       "      <th>std</th>\n",
       "      <td>519.111540</td>\n",
       "      <td>23.283346</td>\n",
       "      <td>19.523517</td>\n",
       "      <td>7.092566</td>\n",
       "      <td>0.131547</td>\n",
       "    </tr>\n",
       "    <tr>\n",
       "      <th>min</th>\n",
       "      <td>676.530029</td>\n",
       "      <td>70.000000</td>\n",
       "      <td>7.960000</td>\n",
       "      <td>8.850000</td>\n",
       "      <td>1.039047</td>\n",
       "    </tr>\n",
       "    <tr>\n",
       "      <th>25%</th>\n",
       "      <td>1239.874969</td>\n",
       "      <td>109.725000</td>\n",
       "      <td>14.380000</td>\n",
       "      <td>15.570000</td>\n",
       "      <td>1.171313</td>\n",
       "    </tr>\n",
       "    <tr>\n",
       "      <th>50%</th>\n",
       "      <td>1551.434998</td>\n",
       "      <td>120.580002</td>\n",
       "      <td>33.869999</td>\n",
       "      <td>17.268500</td>\n",
       "      <td>1.303297</td>\n",
       "    </tr>\n",
       "    <tr>\n",
       "      <th>75%</th>\n",
       "      <td>2073.010070</td>\n",
       "      <td>132.840004</td>\n",
       "      <td>37.827501</td>\n",
       "      <td>22.882500</td>\n",
       "      <td>1.369971</td>\n",
       "    </tr>\n",
       "    <tr>\n",
       "      <th>max</th>\n",
       "      <td>2872.870117</td>\n",
       "      <td>184.589996</td>\n",
       "      <td>117.480003</td>\n",
       "      <td>47.259998</td>\n",
       "      <td>1.598798</td>\n",
       "    </tr>\n",
       "  </tbody>\n",
       "</table>\n",
       "</div>"
      ],
      "text/plain": [
       "               SPX          GLD          USO          SLV      EUR/USD\n",
       "count  2290.000000  2290.000000  2290.000000  2290.000000  2290.000000\n",
       "mean   1654.315776   122.732875    31.842221    20.084997     1.283653\n",
       "std     519.111540    23.283346    19.523517     7.092566     0.131547\n",
       "min     676.530029    70.000000     7.960000     8.850000     1.039047\n",
       "25%    1239.874969   109.725000    14.380000    15.570000     1.171313\n",
       "50%    1551.434998   120.580002    33.869999    17.268500     1.303297\n",
       "75%    2073.010070   132.840004    37.827501    22.882500     1.369971\n",
       "max    2872.870117   184.589996   117.480003    47.259998     1.598798"
      ]
     },
     "execution_count": 8,
     "metadata": {},
     "output_type": "execute_result"
    }
   ],
   "source": [
    "gold_data.describe()"
   ]
  },
  {
   "cell_type": "code",
   "execution_count": 9,
   "id": "c7bd4e80",
   "metadata": {},
   "outputs": [
    {
     "data": {
      "text/plain": [
       "<AxesSubplot:>"
      ]
     },
     "execution_count": 9,
     "metadata": {},
     "output_type": "execute_result"
    },
    {
     "data": {
      "image/png": "[encoded data removed]",
      "text/plain": [
       "<Figure size 576x576 with 2 Axes>"
      ]
     },
     "metadata": {
      "needs_background": "light"
     },
     "output_type": "display_data"
    }
   ],
   "source": [
    "corr = gold_data.corr()\n",
    "plt.figure(figsize = (8,8))\n",
    "sns.heatmap(corr,\n",
    "            xticklabels=corr.columns.values,\n",
    "            yticklabels=corr.columns.values,\n",
    "            annot=True,fmt='.2f',linewidths=0.30)"
   ]
  },
  {
   "cell_type": "code",
   "execution_count": 10,
   "id": "6c8c0ae4",
   "metadata": {},
   "outputs": [
    {
     "name": "stdout",
     "output_type": "stream",
     "text": [
      "SPX        0.049345\n",
      "GLD        1.000000\n",
      "USO       -0.186360\n",
      "SLV        0.866632\n",
      "EUR/USD   -0.024375\n",
      "Name: GLD, dtype: float64\n"
     ]
    }
   ],
   "source": [
    "print (corr['GLD'])"
   ]
  },
  {
   "cell_type": "code",
   "execution_count": 11,
   "id": "9def9cc6",
   "metadata": {},
   "outputs": [
    {
     "name": "stderr",
     "output_type": "stream",
     "text": [
      "C:\\Users\\ss\\anaconda3\\lib\\site-packages\\seaborn\\distributions.py:2619: FutureWarning: `distplot` is a deprecated function and will be removed in a future version. Please adapt your code to use either `displot` (a figure-level function with similar flexibility) or `histplot` (an axes-level function for histograms).\n",
      "  warnings.warn(msg, FutureWarning)\n"
     ]
    },
    {
     "data": {
      "text/plain": [
       "<AxesSubplot:xlabel='GLD', ylabel='Density'>"
      ]
     },
     "execution_count": 11,
     "metadata": {},
     "output_type": "execute_result"
    },
    {
     "data": {
      "image/png": "[encoded data removed]",
      "text/plain": [
       "<Figure size 432x288 with 1 Axes>"
      ]
     },
     "metadata": {
      "needs_background": "light"
     },
     "output_type": "display_data"
    }
   ],
   "source": [
    "sns.distplot(gold_data['GLD'],color=\"b\")"
   ]
  },
  {
   "cell_type": "markdown",
   "id": "df0b2b11",
   "metadata": {},
   "source": [
    "### Train and test split data"
   ]
  },
  {
   "cell_type": "code",
   "execution_count": 20,
   "id": "0b7194a8",
   "metadata": {},
   "outputs": [],
   "source": [
    "x_trail = gold_data[['SPX','USO','SLV','EUR/USD']]\n",
    "X = x_trail.iloc[:, :].values\n",
    "y = gold_data.iloc[:, 2].values"
   ]
  },
  {
   "cell_type": "code",
   "execution_count": 21,
   "id": "4a9781e7",
   "metadata": {},
   "outputs": [],
   "source": [
    "from sklearn.model_selection import train_test_split\n",
    "X_train, X_test, y_train, y_test = train_test_split(X, y, \n",
    "                            test_size=0.25, random_state=2) "
   ]
  },
  {
   "cell_type": "code",
   "execution_count": 22,
   "id": "0d0bace3",
   "metadata": {},
   "outputs": [
    {
     "data": {
      "text/plain": [
       "RandomForestRegressor()"
      ]
     },
     "execution_count": 22,
     "metadata": {},
     "output_type": "execute_result"
    }
   ],
   "source": [
    "from sklearn.ensemble import RandomForestRegressor\n",
    "model= RandomForestRegressor(n_estimators=100)\n",
    "model.fit(X_train,y_train) "
   ]
  },
  {
   "cell_type": "code",
   "execution_count": 23,
   "id": "3f738a9b",
   "metadata": {},
   "outputs": [
    {
     "data": {
      "text/plain": [
       "array([168.72689931,  82.02989993, 116.09590056, 127.38100086,\n",
       "       120.61210173, 154.45729844, 150.0354977 , 126.26010002,\n",
       "       118.01509925, 125.99850049, 116.59660094, 172.10500075,\n",
       "       141.58669932, 167.82369811, 115.09550005, 117.97630078,\n",
       "       138.37620345, 170.49880175, 160.31740359, 156.6184003 ,\n",
       "       155.27310003, 125.32140017, 175.14709975, 157.0819034 ,\n",
       "       125.0733003 ,  93.93389944,  77.13960016, 120.27759961,\n",
       "       119.29590022, 167.41250078,  88.16010009, 125.44080154,\n",
       "        91.30870108, 117.76810002, 121.09579879, 136.32550055,\n",
       "       115.42820104, 114.98210093, 147.63259994, 107.07660115,\n",
       "       104.67900208,  87.17559786, 126.45030041, 117.70989958,\n",
       "       154.03669894, 119.98649982, 108.40130093, 108.34659853,\n",
       "        93.19339967, 127.12469762,  75.06250002, 113.71529921,\n",
       "       120.90069999, 111.12689901, 118.79469885, 120.73439923,\n",
       "       159.39810023, 168.93870104, 146.89139675,  86.07899865,\n",
       "        94.16350026,  86.79399855,  90.65700036, 118.99360094,\n",
       "       126.34050024, 127.752399  , 168.53869961, 122.14759903,\n",
       "       117.43959891,  98.48350023, 168.70250214, 142.92319846,\n",
       "       131.75220165, 121.31130199, 122.17519971, 120.03180095,\n",
       "       114.60700159, 118.38170071, 107.21490085, 127.87700057,\n",
       "       114.23489977, 107.33350018, 117.27670048, 119.63749893,\n",
       "        89.17070059,  88.11789845, 145.70050233, 127.20050009,\n",
       "       113.48900046, 109.94289831, 108.31939909,  76.81459916,\n",
       "       169.74850201, 114.38299913, 121.50039947, 128.14490153,\n",
       "       154.93219868,  91.77539897, 133.8786009 , 158.80180414,\n",
       "       124.91410049, 125.23350097, 130.74160101, 114.78800132,\n",
       "       119.73900026,  92.30229984, 110.15759885, 165.84339948,\n",
       "       156.33939944, 114.45309973, 106.8212011 ,  79.75769978,\n",
       "       113.17309989, 125.71020069, 106.8883998 , 119.2890009 ,\n",
       "       155.98790371, 160.06649954, 119.91339997, 134.36790308,\n",
       "       101.38309995, 117.49659794, 119.36010018, 112.9766006 ,\n",
       "       102.74989952, 160.07799731,  98.85739992, 149.90829977,\n",
       "       125.45620099, 169.10619921, 125.9142989 , 127.21029808,\n",
       "       127.40120197, 113.63859949, 113.3054007 , 123.65459925,\n",
       "       102.07879888,  89.23189982, 124.65309983, 101.39119939,\n",
       "       106.94899899, 113.48390097, 117.33760069,  99.01009945,\n",
       "       121.47670073, 163.35119908,  87.41499862, 106.81459942,\n",
       "       117.38540064, 127.70130137, 123.74090053,  80.94579936,\n",
       "       120.17270064, 157.68539855,  87.85389969, 110.2797996 ,\n",
       "       119.1974991 , 173.05089913, 102.95839919, 105.80260006,\n",
       "       122.60500056, 158.23379849,  87.47769844,  93.40960049,\n",
       "       113.11560051, 176.97599967, 114.37759967, 119.40960003,\n",
       "        94.91720067, 125.29160004, 165.99050134, 114.87930106,\n",
       "       117.16020124,  88.14219842, 148.70190091, 120.34089917,\n",
       "        89.5853    , 112.38810016, 117.42120039, 118.86430126,\n",
       "        87.98299923,  94.42550002, 116.60449968, 118.98850033,\n",
       "       120.08630016, 126.73929849, 121.83429966, 151.47559969,\n",
       "       165.16400155, 118.55359972, 120.25700046, 150.51460093,\n",
       "       118.37529918, 173.42229912, 105.01439905, 105.30709954,\n",
       "       148.78170103, 113.91630069, 124.73740113, 148.12440035,\n",
       "       119.70430094, 115.43960007, 112.29760015, 113.48620226,\n",
       "       140.26540078, 117.96209778, 102.95490038, 115.78280088,\n",
       "       103.30270102,  98.81750036, 117.4491005 ,  90.62960021,\n",
       "        91.37460078, 153.45689946, 102.70829994, 154.99030102,\n",
       "       114.40440179, 139.62930129,  90.13299787, 115.61719932,\n",
       "       113.91720113, 122.89300044, 121.57009998, 165.25860133,\n",
       "        92.78449933, 135.35960176, 121.37349927, 120.63400055,\n",
       "       104.653     , 142.24490305, 122.49339942, 116.80270051,\n",
       "       113.39380065, 127.12029785, 122.65189953, 125.81509964,\n",
       "       121.22770002,  86.96459912, 132.14250178, 145.81050199,\n",
       "        92.92969942, 157.36469967, 158.20160406, 125.77180059,\n",
       "       164.34579979, 108.61749959, 110.20580087, 103.65709824,\n",
       "        93.80200179, 127.6510026 , 106.94790052, 161.17549925,\n",
       "       121.31500079, 131.58100043, 130.75540046, 160.60799968,\n",
       "        90.16529834, 174.58180182, 128.1113008 , 126.67019862,\n",
       "        86.56789914, 124.33359875, 150.90889748,  89.60230014,\n",
       "       106.88229952, 108.8448    ,  84.35909911, 135.97089975,\n",
       "       154.76069949, 138.26960391,  75.03470029, 152.35010071,\n",
       "       125.51480093, 126.7728    , 127.45549916, 108.5279995 ,\n",
       "       156.31060153, 114.56090125, 117.11350127, 125.63269988,\n",
       "       154.04710131, 121.12469989, 156.25199952,  92.81460025,\n",
       "       125.70570109, 125.51850026,  87.78200035,  91.7002995 ,\n",
       "       126.30979924, 128.28360365, 113.29250078, 117.73139743,\n",
       "       120.9777    , 127.18289836, 119.82840111, 136.7648009 ,\n",
       "        93.90109894, 120.26690076, 113.23530114,  94.4626994 ,\n",
       "       108.52490043,  86.84989916, 109.22499923,  89.62599978,\n",
       "        92.26410034, 131.75690158, 162.32050057,  89.52390022,\n",
       "       119.56030088, 133.49550203, 123.7923001 , 127.65729936,\n",
       "       101.8988984 ,  88.90679881, 131.61260046, 120.64360063,\n",
       "       109.26600033, 165.35280034, 115.04650061,  86.57569898,\n",
       "       118.86830075,  90.88869983, 162.010701  , 116.49220058,\n",
       "       121.53420007, 160.17199823, 120.22309908, 113.07749943,\n",
       "       108.38629875, 126.71160039,  76.53349989, 103.00139983,\n",
       "       127.41920239, 121.78289949,  92.6425997 , 131.49580005,\n",
       "       118.03360122, 115.88560036, 154.88680231, 159.84200091,\n",
       "       110.12749966, 150.23509767, 119.41880111, 160.62100118,\n",
       "       118.53560067, 157.83149954, 115.10539932, 116.59110006,\n",
       "       147.73399919, 114.83250035, 125.62219862, 164.82969957,\n",
       "       117.50319965, 124.95329901, 153.42150251, 153.50620221,\n",
       "       132.09490044, 114.6453003 , 121.20090197, 124.42660056,\n",
       "        89.78730043, 122.97460051, 154.97020185, 111.68810014,\n",
       "       106.80289939, 162.33340157, 119.05590005, 165.68019999,\n",
       "       134.16150141, 114.5258    , 152.97959914, 168.51539978,\n",
       "       114.96270044, 114.0322014 , 158.9920995 ,  85.53849807,\n",
       "       127.09890075, 127.97990049, 129.07689982, 124.46610085,\n",
       "       123.77480062,  90.69270066, 153.01880006,  97.16409992,\n",
       "       137.7908997 ,  89.31059962, 107.32329999, 115.0352006 ,\n",
       "       113.25340109, 123.86529934,  91.4495988 , 125.11160062,\n",
       "       162.19279885, 119.92139896, 164.9849014 , 126.60209846,\n",
       "       112.47700002, 127.46349931,  93.9791015 ,  91.01130011,\n",
       "       103.15569908, 120.78779984,  83.25349942, 126.32500021,\n",
       "       161.01940533, 117.50490068, 117.91329905, 119.5468997 ,\n",
       "       122.4047995 , 120.05720141, 121.47380015, 118.14879975,\n",
       "       106.81749986, 147.94109992, 126.32029862, 115.65900094,\n",
       "        74.03710018, 127.84580131, 154.81930091, 121.69809988,\n",
       "       125.55380038,  88.75649985, 103.20019883, 124.48630013,\n",
       "       120.35240024,  73.31230085, 151.54700148, 120.87810001,\n",
       "       105.39689966,  86.51679777, 115.32469912, 172.12129736,\n",
       "       119.79530036, 160.04729782, 113.29969921, 120.87150056,\n",
       "       118.4870009 ,  95.89599976, 118.79300038, 125.79810045,\n",
       "       118.53879952,  96.02590141, 154.2824016 , 122.03319992,\n",
       "       147.51459879, 159.3431034 , 113.64790011, 121.94600034,\n",
       "       153.7898995 , 126.85580037, 165.80500092, 135.37319997,\n",
       "       119.86630003, 167.5797991 , 108.66539929, 121.49100027,\n",
       "       138.66640126, 107.60989882, 109.76349992, 113.47890084,\n",
       "        90.05329987, 125.8195012 , 119.69050105,  93.60780159,\n",
       "       151.96590053, 116.12420005,  80.80220001, 121.80329955,\n",
       "       103.24310139, 127.94929974, 123.45709899, 118.58710083,\n",
       "       120.4762004 , 120.71760034, 131.50410176, 117.01299837,\n",
       "       117.18629943, 115.69749938, 104.89810002, 153.32440083,\n",
       "       110.39159719, 125.53970008,  82.88179925, 180.72349665,\n",
       "        92.95960091, 167.44610061, 105.62320036, 170.94009699,\n",
       "       155.93950019, 132.61200243, 120.52959901, 123.63279879,\n",
       "       144.32590034, 125.24449912, 113.66390113, 125.28610123,\n",
       "       122.24980036, 138.60460036,  76.33870063,  92.63899966,\n",
       "       114.27509885, 121.07219906, 127.75069829, 121.83540113,\n",
       "       126.09500114, 122.15950014, 119.44370064, 104.15579951,\n",
       "       118.21830046,  85.40189953,  92.73250097, 121.73059983,\n",
       "       118.13450068,  92.40330089, 125.42190073,  97.37829859,\n",
       "       104.20779989,  89.7384999 , 149.27489977, 109.00620015,\n",
       "       120.3861012 ,  91.9508013 , 118.64069962, 128.13059838,\n",
       "       111.78809968, 155.34030146, 151.38150191, 108.77080133,\n",
       "        95.99490015, 117.89529987, 125.25260134,  80.63569876,\n",
       "       116.20920069,  92.8562993 , 141.18090227, 108.10060005,\n",
       "       106.26450068,  87.90550022, 117.69610006, 110.32949805,\n",
       "       120.90990052, 136.11520063, 116.34960185, 119.35230053,\n",
       "       156.67909977, 106.92540208,  96.67780125, 137.9009004 ,\n",
       "       129.28890173, 122.92430025, 119.71040194, 115.99470014,\n",
       "       103.25610143, 118.88949908, 120.50770115, 121.71130072,\n",
       "       156.08110035,  87.27459768, 163.07610084, 122.08259981,\n",
       "       118.98970027, 156.37740332, 160.66870088, 142.2067977 ,\n",
       "       114.78399945, 108.96600072, 126.61369893, 149.96300185,\n",
       "        94.1284015 , 115.31120046, 122.09799987, 121.96409849,\n",
       "        87.32709838])"
      ]
     },
     "execution_count": 23,
     "metadata": {},
     "output_type": "execute_result"
    }
   ],
   "source": [
    "prediction=model.predict(X_test)\n",
    "prediction"
   ]
  },
  {
   "cell_type": "code",
   "execution_count": 24,
   "id": "5ce0aa73",
   "metadata": {},
   "outputs": [
    {
     "name": "stdout",
     "output_type": "stream",
     "text": [
      "Mean Absolute Error: 0.9891204784869191\n"
     ]
    }
   ],
   "source": [
    "from sklearn import metrics\n",
    "print('Mean Absolute Error:', metrics.r2_score(y_test, prediction)) "
   ]
  },
  {
   "cell_type": "code",
   "execution_count": 25,
   "id": "f83af1ae",
   "metadata": {},
   "outputs": [
    {
     "name": "stdout",
     "output_type": "stream",
     "text": [
      "0.9982722688061619\n",
      "0.9891204784869191\n"
     ]
    }
   ],
   "source": [
    "accuracy_train = model.score(X_train, y_train)\n",
    "accuracy_test = model.score(X_test, y_test)\n",
    "print(accuracy_train)\n",
    "print(accuracy_test)"
   ]
  },
  {
   "cell_type": "code",
   "execution_count": 26,
   "id": "ae7d31f0",
   "metadata": {},
   "outputs": [
    {
     "data": {
      "image/png": "[encoded data removed]",
      "text/plain": [
       "<Figure size 432x288 with 1 Axes>"
      ]
     },
     "metadata": {
      "needs_background": "light"
     },
     "output_type": "display_data"
    }
   ],
   "source": [
    "plt.plot(y_test, color = 'blue', label = 'Acutal')\n",
    "plt.plot(prediction, color = 'deeppink', label = 'Predicted')\n",
    "plt.grid(0.3)\n",
    "plt.title('Acutal vs Predicted')\n",
    "plt.xlabel('Number of Oberservation')\n",
    "plt.ylabel('GLD')\n",
    "plt.legend()\n",
    "plt.show()"
   ]
  }
 ],
 "metadata": {
  "kernelspec": {
   "display_name": "Python 3 (ipykernel)",
   "language": "python",
   "name": "python3"
  },
  "language_info": {
   "codemirror_mode": {
    "name": "ipython",
    "version": 3
   },
   "file_extension": ".py",
   "mimetype": "text/x-python",
   "name": "python",
   "nbconvert_exporter": "python",
   "pygments_lexer": "ipython3",
   "version": "3.9.12"
  }
 },
 "nbformat": 4,
 "nbformat_minor": 5
}
